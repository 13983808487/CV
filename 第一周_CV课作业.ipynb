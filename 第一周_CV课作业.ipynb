{
 "cells": [
  {
   "cell_type": "markdown",
   "metadata": {},
   "source": [
    "![](https://img.kaikeba.com/web/kkb_index/img_index_logo.png)"
   ]
  },
  {
   "cell_type": "markdown",
   "metadata": {},
   "source": [
    "# Lesson-01 Assignment"
   ]
  },
  {
   "cell_type": "markdown",
   "metadata": {},
   "source": [
    "   各位同学大家好，欢迎各位开始学习我们的人工智能课程。这门课程假设大家不具备机器学习和人工智能的知识，但是希望大家具备初级的Python编程能力。根据往期同学的实际反馈，我们课程的完结之后 能力能够超过80%的计算机人工智能/深度学习方向的硕士生的能力。"
   ]
  },
  {
   "cell_type": "markdown",
   "metadata": {},
   "source": [
    "## 本次作业的内容"
   ]
  },
  {
   "cell_type": "markdown",
   "metadata": {},
   "source": [
    "### 1. Recode all examples;"
   ]
  },
  {
   "cell_type": "code",
   "execution_count": null,
   "metadata": {},
   "outputs": [],
   "source": [
    "def adjust_gamma(img, gamma=1.0):#Gamma变换\n",
    "    invGamma = 1.0/gamma\n",
    "    table = []\n",
    "    for i in range(256):\n",
    "        table.append(((i/255.0)**invGamma)*255)\n",
    "    table = np.array(table).astype(img.dtype)\n",
    "    return cv2.LUT(img,table)#Look Up Table"
   ]
  },
  {
   "cell_type": "code",
   "execution_count": 1,
   "metadata": {},
   "outputs": [],
   "source": [
    "def adjust_YUV(img, yuv=[0,1,2]):#YUV通道直方图均衡化\n",
    "    img_yuv = cv2.cvtColor(img, cv2.COLOR_BGR2YUV)\n",
    "    for i in yuv:#根据输入list值选择对YUV三通道进行直方图均衡化\n",
    "        img_yuv[:,:,i] = cv2.equalizeHist(img_yuv[:,:,i])\n",
    "    return cv2.cvtColor(img_yuv, cv2.COLOR_YUV2BGR)"
   ]
  },
  {
   "cell_type": "markdown",
   "metadata": {},
   "source": [
    "### 2. Please answer some questions about our course. We do appreciate your help."
   ]
  },
  {
   "cell_type": "markdown",
   "metadata": {},
   "source": [
    "   2.1  What do you want to get in this course? "
   ]
  },
  {
   "cell_type": "markdown",
   "metadata": {},
   "source": [
    "Answer:I want to get ability to find a job and do something interesting."
   ]
  },
  {
   "cell_type": "markdown",
   "metadata": {},
   "source": [
    "2.2 What problems do you want to solve? "
   ]
  },
  {
   "cell_type": "markdown",
   "metadata": {},
   "source": [
    "Answer:I'm not shure."
   ]
  },
  {
   "cell_type": "markdown",
   "metadata": {},
   "source": [
    " 2.3 What advantages do you have to accomplish your goal?"
   ]
  },
  {
   "cell_type": "markdown",
   "metadata": {},
   "source": [
    "Answer:I have much time and enough interest to study something about CV,cumputer,data and so on."
   ]
  },
  {
   "cell_type": "markdown",
   "metadata": {},
   "source": [
    " 2.4 What disadvantages you need to overcome to accomplish your goal?"
   ]
  },
  {
   "cell_type": "markdown",
   "metadata": {},
   "source": [
    "Answer:I'm so lazy and I have too much knowledge to learn.Others, I'not good at plan."
   ]
  },
  {
   "cell_type": "markdown",
   "metadata": {},
   "source": [
    "2.5 How will you plan to study in this course? "
   ]
  },
  {
   "cell_type": "markdown",
   "metadata": {},
   "source": [
    "Answer:I plan to learn CV, Mathematics, English, algorithms and data structures."
   ]
  },
  {
   "cell_type": "markdown",
   "metadata": {},
   "source": [
    "### 3. 如何提交"
   ]
  },
  {
   "cell_type": "markdown",
   "metadata": {},
   "source": [
    "答疑平台提交，具体方式，见作业提交指南"
   ]
  },
  {
   "cell_type": "markdown",
   "metadata": {},
   "source": [
    "### 4. 作业截止时间"
   ]
  },
  {
   "cell_type": "markdown",
   "metadata": {},
   "source": [
    "作业能帮助你回顾课堂内容，你又可以通过作业进行代码实操。咱们可要认真、及时的完成作业哦！自布置作业起两周内提交，助教及时批改作业哦～逾期提交不批改。（特殊情况，请找班主任请假。）"
   ]
  },
  {
   "cell_type": "markdown",
   "metadata": {},
   "source": [
    "### 5. 完成以下问答和编程练习"
   ]
  },
  {
   "cell_type": "markdown",
   "metadata": {},
   "source": [
    "5.1  Please combine **image crop, color shift, rotation and perspective transform** together to complete a data augmentation script.\n",
    "   Your code need to be completed in Python/C++ in .py or .cpp file with comments and readme file to indicate how to use."
   ]
  },
  {
   "cell_type": "code",
   "execution_count": 7,
   "metadata": {
    "scrolled": true
   },
   "outputs": [],
   "source": [
    "import cv2\n",
    "import random\n",
    "import numpy as np\n",
    "\n",
    "def my_show(img, size=(5,5)):#use plt show img read from cv\n",
    "    plt.figure(figsize=size)\n",
    "    plt.imshow(cv2.cvtColor(img,cv2.COLOR_BGR2RGB))\n",
    "    \n",
    "def image_crop(img, l_size=(100,400), w_size=(100,400)): # show img size you want\n",
    "    my_show(img[l_size[0]:l_size[1],w_size[0]:w_size[1]])\n",
    "\n",
    "def channel_shift(channel, num):# every channel changes alone\n",
    "    channel = channel.astype(dtype='int32')\n",
    "    channel += num\n",
    "    channel[channel>255] = 255\n",
    "    channel[channel<0] = 0\n",
    "    \n",
    "    return channel\n",
    "\n",
    "#用c来装change的值\n",
    "def color_shift(img,c=[]):#put the BGR change you want\n",
    "    C = []\n",
    "    C = cv2.split(img)\n",
    "    \n",
    "    for i in range(len(c)):\n",
    "        C[i] = (channel_shift(C[i], c[i])).astype(img.dtype)\n",
    "\n",
    "    return cv2.merge((C))\n",
    "\n",
    "def rotation(img): # you code here\n",
    "    M = cv2.getRotationMatrix2D((img.shape[1] / 2, img.shape[0] / 2), 30, 1) # center, angle, scale\n",
    "    img_rotate = cv2.warpAffine(img, M, (img.shape[1], img.shape[0]))\n",
    "    \n",
    "    return img_rotate\n",
    "\n",
    "pts1 = np.float32([[0,0],[0,500],[500,0],[500,500]])  # 源点创建\n",
    "pts2 = np.float32([[5,19],[19,460],[460,9],[410,420]])  # 目标点创建\n",
    "def perspective_transform(img, pts1, pts2): # you code here\n",
    "    M = cv2.getPerspectiveTransform(pts1,pts2) \n",
    "    dsize = tuple((np.array(a)*1.3).astype(dtype='int'))#promiss the img_out show all\n",
    "    img_warp = cv2.warpPerspective(img,M,dsize) \n",
    "    \n",
    "    return img_warp"
   ]
  },
  {
   "cell_type": "markdown",
   "metadata": {},
   "source": [
    "各位同学，你已经把课上关于图像增广实现了！CV的领域很广，咱们需要思考兴趣点在哪～"
   ]
  },
  {
   "cell_type": "markdown",
   "metadata": {},
   "source": [
    "5.2  Do think about your own interests very carefully and choose your topic within 3 weeks."
   ]
  },
  {
   "cell_type": "markdown",
   "metadata": {},
   "source": [
    "Answer:"
   ]
  },
  {
   "cell_type": "markdown",
   "metadata": {},
   "source": [
    "这次的作业就到这里了！祝大家学习进步！"
   ]
  },
  {
   "cell_type": "markdown",
   "metadata": {},
   "source": [
    "![image alt <](http://5b0988e595225.cdn.sohucs.com/images/20190420/1d1070881fd540db817b2a3bdd967f37.gif)"
   ]
  }
 ],
 "metadata": {
  "kernelspec": {
   "display_name": "Python 3",
   "language": "python",
   "name": "python3"
  },
  "language_info": {
   "codemirror_mode": {
    "name": "ipython",
    "version": 3
   },
   "file_extension": ".py",
   "mimetype": "text/x-python",
   "name": "python",
   "nbconvert_exporter": "python",
   "pygments_lexer": "ipython3",
   "version": "3.7.4"
  }
 },
 "nbformat": 4,
 "nbformat_minor": 2
}
